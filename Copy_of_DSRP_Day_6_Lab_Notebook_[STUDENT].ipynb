{
  "nbformat": 4,
  "nbformat_minor": 0,
  "metadata": {
    "colab": {
      "provenance": [],
      "include_colab_link": true
    },
    "kernelspec": {
      "name": "python3",
      "display_name": "Python 3"
    },
    "language_info": {
      "name": "python"
    }
  },
  "cells": [
    {
      "cell_type": "markdown",
      "metadata": {
        "id": "view-in-github",
        "colab_type": "text"
      },
      "source": [
        "<a href=\"https://colab.research.google.com/github/njones5714/My-notebook/blob/main/Copy_of_DSRP_Day_6_Lab_Notebook_%5BSTUDENT%5D.ipynb\" target=\"_parent\"><img src=\"https://colab.research.google.com/assets/colab-badge.svg\" alt=\"Open In Colab\"/></a>"
      ]
    },
    {
      "cell_type": "markdown",
      "source": [
        "# **Lab 6: Statistics**\n",
        "---\n",
        "\n",
        "### **Description**\n",
        "This notebook shows how to implement and use the topics that we've been discussing in statistics.\n",
        "\n",
        "<br>\n",
        "\n",
        "### **Structure**\n",
        "**Part 1**: [Descriptive Statistics with pandas](#p1)\n",
        "\n",
        "**Part 2**: [Histograms, Box Plots, and Violin Plots with Matplotlib](#p2)\n",
        "\n",
        "**Part 3**: [Chi-Squared and T-Tests for Feature Selection with Sklearn](#p3)\n",
        "\n",
        "**Part 4**: [T-Tests for Model Selection with Sklearn](#p4)\n",
        "\n",
        "**Part 5**: [Challenge Problem](#p5)\n",
        "\n",
        "<br>\n",
        "\n",
        "### **Learning Objectives**\n",
        "1. Recognize how to calculate descriptive statistics such as mean, median, mode, variance, and standard deviation using pandas.\n",
        "1. Recognize how to apply and interpret Z-scores and percentiles to understand the spread and distribution of data.\n",
        "1. Recognize the process of performing hypothesis testing, including formulating null and alternative hypotheses, and calculating test statistics.\n",
        "1. Recognize how to interpret p-values and make decisions based on statistical significance.\n",
        "\n",
        "<br>\n",
        "\n",
        "**Run the cell below to load all necessary functions and libraries.**"
      ],
      "metadata": {
        "id": "mbZXQ3rA3NwL"
      }
    },
    {
      "cell_type": "code",
      "source": [
        "import pandas as pd\n",
        "import seaborn as sns\n",
        "import matplotlib.pyplot as plt\n",
        "from sklearn.datasets import load_iris, load_breast_cancer, fetch_california_housing\n",
        "from sklearn.preprocessing import StandardScaler, LabelEncoder\n",
        "from sklearn.feature_selection import SelectKBest, chi2, f_classif\n",
        "from sklearn.linear_model import LogisticRegression\n",
        "from sklearn.svm import SVC\n",
        "from sklearn.tree import DecisionTreeClassifier\n",
        "from sklearn.ensemble import RandomForestClassifier\n",
        "from sklearn.model_selection import train_test_split, cross_val_score\n",
        "from scipy.stats import ttest_ind, ttest_rel"
      ],
      "metadata": {
        "id": "uZBz3PVBdbnM"
      },
      "execution_count": 1,
      "outputs": []
    },
    {
      "cell_type": "markdown",
      "source": [
        "<a name=\"p1\"></a>\n",
        "\n",
        "---\n",
        "## **Part 1: Descriptive Statistics with pandas**\n",
        "---\n",
        "\n",
        "In this section, we will see a mix of old and new methods that can all be used for exploring the statistics of a dataframe."
      ],
      "metadata": {
        "id": "vt_4fyKddex2"
      }
    },
    {
      "cell_type": "markdown",
      "source": [
        "#### **Problem #1.1**\n",
        "\n",
        "We can use the `.describe()` method to get an overview of the descriptive statistics in a dataframe."
      ],
      "metadata": {
        "id": "A1GFD_pse6Tt"
      }
    },
    {
      "cell_type": "code",
      "source": [
        "data = load_iris()\n",
        "df = pd.DataFrame(data.data, columns=data.feature_names)\n",
        "\n",
        "print(\"1. Descriptive Statistics of a Dataset:\")\n",
        "print(df.describe())"
      ],
      "metadata": {
        "colab": {
          "base_uri": "https://localhost:8080/"
        },
        "id": "VyJdaMa8dnXU",
        "outputId": "be0791d7-5384-4f11-a9e3-9b71b9987b1a"
      },
      "execution_count": 2,
      "outputs": [
        {
          "output_type": "stream",
          "name": "stdout",
          "text": [
            "1. Descriptive Statistics of a Dataset:\n",
            "       sepal length (cm)  sepal width (cm)  petal length (cm)  \\\n",
            "count         150.000000        150.000000         150.000000   \n",
            "mean            5.843333          3.057333           3.758000   \n",
            "std             0.828066          0.435866           1.765298   \n",
            "min             4.300000          2.000000           1.000000   \n",
            "25%             5.100000          2.800000           1.600000   \n",
            "50%             5.800000          3.000000           4.350000   \n",
            "75%             6.400000          3.300000           5.100000   \n",
            "max             7.900000          4.400000           6.900000   \n",
            "\n",
            "       petal width (cm)  \n",
            "count        150.000000  \n",
            "mean           1.199333  \n",
            "std            0.762238  \n",
            "min            0.100000  \n",
            "25%            0.300000  \n",
            "50%            1.300000  \n",
            "75%            1.800000  \n",
            "max            2.500000  \n"
          ]
        }
      ]
    },
    {
      "cell_type": "markdown",
      "source": [
        "#### **Problem #1.2**\n",
        "\n",
        "We can use the `.corr()` to look at the correlations between each column in a dataframe."
      ],
      "metadata": {
        "id": "2uKQTaqafNuS"
      }
    },
    {
      "cell_type": "code",
      "source": [
        "print(\"2. Correlation Matrix:\")\n",
        "print(df.corr())"
      ],
      "metadata": {
        "colab": {
          "base_uri": "https://localhost:8080/"
        },
        "id": "pBPnbmwNdo1u",
        "outputId": "05568080-2a2b-4ee6-f2f5-940695b24ccb"
      },
      "execution_count": 3,
      "outputs": [
        {
          "output_type": "stream",
          "name": "stdout",
          "text": [
            "2. Correlation Matrix:\n",
            "                   sepal length (cm)  sepal width (cm)  petal length (cm)  \\\n",
            "sepal length (cm)           1.000000         -0.117570           0.871754   \n",
            "sepal width (cm)           -0.117570          1.000000          -0.428440   \n",
            "petal length (cm)           0.871754         -0.428440           1.000000   \n",
            "petal width (cm)            0.817941         -0.366126           0.962865   \n",
            "\n",
            "                   petal width (cm)  \n",
            "sepal length (cm)          0.817941  \n",
            "sepal width (cm)          -0.366126  \n",
            "petal length (cm)          0.962865  \n",
            "petal width (cm)           1.000000  \n"
          ]
        }
      ]
    },
    {
      "cell_type": "markdown",
      "source": [
        "#### **Problem #1.3**\n",
        "\n",
        "Oftentimes, we want to understand how different single variable statistics such as mean, median, standard deviation, etc. change within different groups. We can use the `.groupby(...)` and `.agg(...)` methods to do just this!\n",
        "\n",
        "<br>\n",
        "\n",
        "**NOTE**: Because mean and median require numerical variables, we select only numerical columns from our dataframe first in the code below."
      ],
      "metadata": {
        "id": "RjRvX-e8fYnH"
      }
    },
    {
      "cell_type": "code",
      "source": [
        "df = sns.load_dataset('titanic')\n",
        "print(\"3. Summary Statistics by Group:\")\n",
        "\n",
        "numeric_cols = df.select_dtypes(include='number').columns\n",
        "print(df.groupby('sex')[numeric_cols].agg(['mean', 'median']))"
      ],
      "metadata": {
        "colab": {
          "base_uri": "https://localhost:8080/"
        },
        "id": "EfktAa86dpoY",
        "outputId": "cc7c2c08-26b4-43f4-cbdd-61e2c97a1cda"
      },
      "execution_count": 4,
      "outputs": [
        {
          "output_type": "stream",
          "name": "stdout",
          "text": [
            "3. Summary Statistics by Group:\n",
            "        survived           pclass               age            sibsp         \\\n",
            "            mean median      mean median       mean median      mean median   \n",
            "sex                                                                           \n",
            "female  0.742038    1.0  2.159236    2.0  27.915709   27.0  0.694268    0.0   \n",
            "male    0.188908    0.0  2.389948    3.0  30.726645   29.0  0.429809    0.0   \n",
            "\n",
            "           parch              fare         \n",
            "            mean median       mean median  \n",
            "sex                                        \n",
            "female  0.649682    0.0  44.479818   23.0  \n",
            "male    0.235702    0.0  25.523893   10.5  \n"
          ]
        }
      ]
    },
    {
      "cell_type": "markdown",
      "source": [
        "#### **Problem #1.4**\n",
        "\n",
        "We can use `.value_counts()` to find the counts for different categories of a different variable."
      ],
      "metadata": {
        "id": "GfVRWKu8gHVa"
      }
    },
    {
      "cell_type": "code",
      "source": [
        "print(\"4. Value Counts:\")\n",
        "print(df['embarked'].value_counts())"
      ],
      "metadata": {
        "colab": {
          "base_uri": "https://localhost:8080/"
        },
        "id": "_tNTg23MdqZG",
        "outputId": "2481e4fe-da75-4b45-d471-7ef64d28e1a2"
      },
      "execution_count": 5,
      "outputs": [
        {
          "output_type": "stream",
          "name": "stdout",
          "text": [
            "4. Value Counts:\n",
            "embarked\n",
            "S    644\n",
            "C    168\n",
            "Q     77\n",
            "Name: count, dtype: int64\n"
          ]
        }
      ]
    },
    {
      "cell_type": "markdown",
      "source": [
        "#### **Problem #1.5**\n",
        "\n",
        "Oftentimes, datasets contain missing values. There are many ways to find and deal with these. Below, we have provided a way to look at the percentage of missing values in each column by taking the mean of 0s (not missing/na) and 1s (missing/na)."
      ],
      "metadata": {
        "id": "1ztsLn4AgT19"
      }
    },
    {
      "cell_type": "code",
      "source": [
        "print(\"5. Missing Values:\")\n",
        "print(df.isna().mean() * 100)"
      ],
      "metadata": {
        "colab": {
          "base_uri": "https://localhost:8080/"
        },
        "id": "U6F82rZgdrZK",
        "outputId": "00154c2f-4c29-4b97-a533-72bcdafce793"
      },
      "execution_count": 6,
      "outputs": [
        {
          "output_type": "stream",
          "name": "stdout",
          "text": [
            "5. Missing Values:\n",
            "survived        0.000000\n",
            "pclass          0.000000\n",
            "sex             0.000000\n",
            "age            19.865320\n",
            "sibsp           0.000000\n",
            "parch           0.000000\n",
            "fare            0.000000\n",
            "embarked        0.224467\n",
            "class           0.000000\n",
            "who             0.000000\n",
            "adult_male      0.000000\n",
            "deck           77.216611\n",
            "embark_town     0.224467\n",
            "alive           0.000000\n",
            "alone           0.000000\n",
            "dtype: float64\n"
          ]
        }
      ]
    },
    {
      "cell_type": "markdown",
      "source": [
        "#### **Problem #1.6**\n",
        "\n",
        "A common set of measurements in descriptive statistics is quartiles and the associated Interquartile Range (IQR) as described below:\n",
        "\n",
        "<br>\n",
        "\n",
        "**Quartiles**: Quartiles divide a ranked data set into four equal parts. There are three quartiles:\n",
        "\n",
        "* First Quartile (Q1): Also known as the 25th percentile. It is the median of the lower half of the data set (excluding the overall median if the number of observations is odd). 25% of the data falls below Q1.\n",
        "* Second Quartile (Q2): Also known as the 50th percentile or the median. It divides the data set into two equal halves. 50% of the data falls below Q2.\n",
        "* Third Quartile (Q3): Also known as the 75th percentile. It is the median of the upper half of the data set (excluding the overall median if the number of observations is odd). 75% of the data falls below Q3.\n",
        "\n",
        "<br>\n",
        "\n",
        "\n",
        "**Interquartile Range (IQR)**: The IQR is a measure of statistical dispersion and is calculated as the difference between the third quartile (Q3) and the first quartile (Q1): $ IQR = Q_3 -Q_1$.\n",
        "\n",
        "The IQR measures the range within which the central 50% of the values lie. It is a robust measure of variability because it is not affected by outliers or extreme values.\n",
        "\n",
        "<br>\n",
        "\n",
        "**NOTE**: Quartiles are a specific form of the more general quantiles, which divide data up into any number of equal parts such as:\n",
        "* Quintiles: Divide the data into 5 equal parts.\n",
        "* Deciles: Divide the data into 10 equal parts.\n",
        "* Percentiles: Divide the data into 100 equal parts."
      ],
      "metadata": {
        "id": "yzcWRRI2gtp2"
      }
    },
    {
      "cell_type": "code",
      "source": [
        "data = load_iris()\n",
        "\n",
        "df = pd.DataFrame(data.data, columns=data.feature_names)\n",
        "quantiles = df.quantile([0.25, 0.5, 0.75])\n",
        "iqr = quantiles.loc[0.75] - quantiles.loc[0.25]\n",
        "\n",
        "print(\"6. Quantiles and IQR:\")\n",
        "print(quantiles)\n",
        "print('\\nIQR:', iqr)"
      ],
      "metadata": {
        "id": "3NAdaXN9dtxm",
        "colab": {
          "base_uri": "https://localhost:8080/"
        },
        "outputId": "b2d17816-1ac4-4af3-952b-fe082a06e4b8"
      },
      "execution_count": 7,
      "outputs": [
        {
          "output_type": "stream",
          "name": "stdout",
          "text": [
            "6. Quantiles and IQR:\n",
            "      sepal length (cm)  sepal width (cm)  petal length (cm)  petal width (cm)\n",
            "0.25                5.1               2.8               1.60               0.3\n",
            "0.50                5.8               3.0               4.35               1.3\n",
            "0.75                6.4               3.3               5.10               1.8\n",
            "\n",
            "IQR: sepal length (cm)    1.3\n",
            "sepal width (cm)     0.5\n",
            "petal length (cm)    3.5\n",
            "petal width (cm)     1.5\n",
            "dtype: float64\n"
          ]
        }
      ]
    },
    {
      "cell_type": "markdown",
      "source": [
        "#### **Problem #1.7**\n",
        "\n",
        "Here we standardize our data and see how the quartiles change as just one example of what standardized vs. unstandardized data may look like."
      ],
      "metadata": {
        "id": "KQyOAsSbjUE-"
      }
    },
    {
      "cell_type": "code",
      "source": [
        "scaler = StandardScaler()\n",
        "df_scaled = pd.DataFrame(scaler.fit_transform(df), columns=df.columns)\n",
        "\n",
        "print(\"7. Standardizing Data:\")\n",
        "print(df_scaled.head())\n",
        "print(\"\\n\")\n",
        "\n",
        "quantiles = df_scaled.quantile([0.25, 0.5, 0.75])\n",
        "iqr = quantiles.loc[0.75] - quantiles.loc[0.25]\n",
        "\n",
        "print(\"Quantiles and IQR:\")\n",
        "print(quantiles)\n",
        "print('\\nIQR:', iqr)"
      ],
      "metadata": {
        "id": "A0fZjRaKdveX",
        "colab": {
          "base_uri": "https://localhost:8080/"
        },
        "outputId": "07c0c7c2-8331-4ecc-a4f6-b62296506267"
      },
      "execution_count": 8,
      "outputs": [
        {
          "output_type": "stream",
          "name": "stdout",
          "text": [
            "7. Standardizing Data:\n",
            "   sepal length (cm)  sepal width (cm)  petal length (cm)  petal width (cm)\n",
            "0          -0.900681          1.019004          -1.340227         -1.315444\n",
            "1          -1.143017         -0.131979          -1.340227         -1.315444\n",
            "2          -1.385353          0.328414          -1.397064         -1.315444\n",
            "3          -1.506521          0.098217          -1.283389         -1.315444\n",
            "4          -1.021849          1.249201          -1.340227         -1.315444\n",
            "\n",
            "\n",
            "Quantiles and IQR:\n",
            "      sepal length (cm)  sepal width (cm)  petal length (cm)  petal width (cm)\n",
            "0.25          -0.900681         -0.592373          -1.226552         -1.183812\n",
            "0.50          -0.052506         -0.131979           0.336478          0.132510\n",
            "0.75           0.674501          0.558611           0.762758          0.790671\n",
            "\n",
            "IQR: sepal length (cm)    1.575182\n",
            "sepal width (cm)     1.150984\n",
            "petal length (cm)    1.989310\n",
            "petal width (cm)     1.974483\n",
            "dtype: float64\n"
          ]
        }
      ]
    },
    {
      "cell_type": "markdown",
      "source": [
        "#### **Problem #1.8**\n",
        "\n",
        "For any dataset, we can look at the largest entries using `.nlargest(...)`. Notice that the ordering is the same for the standardized vs. unstandardized data even though the values themselves are different."
      ],
      "metadata": {
        "id": "zNE1xk4VjuTj"
      }
    },
    {
      "cell_type": "code",
      "source": [
        "top_10 = df.nlargest(10, 'sepal length (cm)')\n",
        "top_10_scaled = df_scaled.nlargest(10, 'sepal length (cm)')\n",
        "\n",
        "print(\"8. Top N Rows by Value:\")\n",
        "print(top_10)\n",
        "print('\\n',top_10_scaled)"
      ],
      "metadata": {
        "id": "upJA4bpqdw5I",
        "colab": {
          "base_uri": "https://localhost:8080/"
        },
        "outputId": "018cb802-456e-4bc2-a903-7b97b4347af5"
      },
      "execution_count": 9,
      "outputs": [
        {
          "output_type": "stream",
          "name": "stdout",
          "text": [
            "8. Top N Rows by Value:\n",
            "     sepal length (cm)  sepal width (cm)  petal length (cm)  petal width (cm)\n",
            "131                7.9               3.8                6.4               2.0\n",
            "117                7.7               3.8                6.7               2.2\n",
            "118                7.7               2.6                6.9               2.3\n",
            "122                7.7               2.8                6.7               2.0\n",
            "135                7.7               3.0                6.1               2.3\n",
            "105                7.6               3.0                6.6               2.1\n",
            "130                7.4               2.8                6.1               1.9\n",
            "107                7.3               2.9                6.3               1.8\n",
            "109                7.2               3.6                6.1               2.5\n",
            "125                7.2               3.2                6.0               1.8\n",
            "\n",
            "      sepal length (cm)  sepal width (cm)  petal length (cm)  petal width (cm)\n",
            "131           2.492019          1.709595           1.501645          1.053935\n",
            "117           2.249683          1.709595           1.672157          1.317199\n",
            "118           2.249683         -1.052767           1.785832          1.448832\n",
            "122           2.249683         -0.592373           1.672157          1.053935\n",
            "135           2.249683         -0.131979           1.331133          1.448832\n",
            "105           2.128516         -0.131979           1.615320          1.185567\n",
            "130           1.886180         -0.592373           1.331133          0.922303\n",
            "107           1.765012         -0.362176           1.444807          0.790671\n",
            "109           1.643844          1.249201           1.331133          1.712096\n",
            "125           1.643844          0.328414           1.274295          0.790671\n"
          ]
        }
      ]
    },
    {
      "cell_type": "markdown",
      "source": [
        "#### **Problem #1.9**\n",
        "\n",
        "Lastly, one way that we can detect outliers in our data using quartiles and the IQR. Can you see how many outliers there are according to this approach?"
      ],
      "metadata": {
        "id": "6riMckswkUAr"
      }
    },
    {
      "cell_type": "code",
      "source": [
        "df = sns.load_dataset('titanic')\n",
        "Q1 = df['fare'].quantile(0.25)\n",
        "Q3 = df['fare'].quantile(0.75)\n",
        "IQR = Q3 - Q1\n",
        "\n",
        "outliers = df[(df['fare'] < Q1 - 1.5 * IQR) | (df['fare'] > Q3 + 1.5 * IQR)]\n",
        "print(\"10. Detecting Outliers:\")\n",
        "print(outliers)\n",
        "print(\"\\n\")"
      ],
      "metadata": {
        "id": "AkqgfvArdy4f",
        "colab": {
          "base_uri": "https://localhost:8080/"
        },
        "outputId": "19f4d577-76ec-4b38-b907-05c86753911c"
      },
      "execution_count": 10,
      "outputs": [
        {
          "output_type": "stream",
          "name": "stdout",
          "text": [
            "10. Detecting Outliers:\n",
            "     survived  pclass     sex   age  sibsp  parch      fare embarked  class  \\\n",
            "1           1       1  female  38.0      1      0   71.2833        C  First   \n",
            "27          0       1    male  19.0      3      2  263.0000        S  First   \n",
            "31          1       1  female   NaN      1      0  146.5208        C  First   \n",
            "34          0       1    male  28.0      1      0   82.1708        C  First   \n",
            "52          1       1  female  49.0      1      0   76.7292        C  First   \n",
            "..        ...     ...     ...   ...    ...    ...       ...      ...    ...   \n",
            "846         0       3    male   NaN      8      2   69.5500        S  Third   \n",
            "849         1       1  female   NaN      1      0   89.1042        C  First   \n",
            "856         1       1  female  45.0      1      1  164.8667        S  First   \n",
            "863         0       3  female   NaN      8      2   69.5500        S  Third   \n",
            "879         1       1  female  56.0      0      1   83.1583        C  First   \n",
            "\n",
            "       who  adult_male deck  embark_town alive  alone  \n",
            "1    woman       False    C    Cherbourg   yes  False  \n",
            "27     man        True    C  Southampton    no  False  \n",
            "31   woman       False    B    Cherbourg   yes  False  \n",
            "34     man        True  NaN    Cherbourg    no  False  \n",
            "52   woman       False    D    Cherbourg   yes  False  \n",
            "..     ...         ...  ...          ...   ...    ...  \n",
            "846    man        True  NaN  Southampton    no  False  \n",
            "849  woman       False    C    Cherbourg   yes  False  \n",
            "856  woman       False  NaN  Southampton   yes  False  \n",
            "863  woman       False  NaN  Southampton    no  False  \n",
            "879  woman       False    C    Cherbourg   yes  False  \n",
            "\n",
            "[116 rows x 15 columns]\n",
            "\n",
            "\n"
          ]
        }
      ]
    },
    {
      "cell_type": "markdown",
      "source": [
        "<a name=\"p2\"></a>\n",
        "\n",
        "---\n",
        "## **Part 2: Histograms, Box Plots, and Violin Plots with Matplotlib**\n",
        "---\n",
        "\n",
        "The visualizing techniques we've already learned can go a long way in understanding the descriptive statistics of our data. However, there are a few more types of visualizations that are worth adding to your toolbelt:\n",
        "* Histograms\n",
        "* Box Plots\n",
        "* Violin Plots"
      ],
      "metadata": {
        "id": "bBJYfzoEd0HR"
      }
    },
    {
      "cell_type": "markdown",
      "source": [
        "#### **Problem #2.1**\n",
        "\n",
        "A histogram displays the distribution of a single numerical variable by dividing the data into bins and counting the number of observations in each bin. Use histograms to understand the frequency distribution, spread, and skewness of the data."
      ],
      "metadata": {
        "id": "SFmaUyg5kpq5"
      }
    },
    {
      "cell_type": "code",
      "source": [
        "data = load_iris()\n",
        "df = pd.DataFrame(data.data, columns=data.feature_names)\n",
        "\n",
        "plt.hist(df['sepal length (cm)'], bins=20)\n",
        "\n",
        "plt.title(\"1. Histograms\")\n",
        "plt.xlabel('Sepal Length (cm)')\n",
        "plt.ylabel('Frequency')\n",
        "\n",
        "plt.show()"
      ],
      "metadata": {
        "id": "QonlRaB-d4HB",
        "colab": {
          "base_uri": "https://localhost:8080/",
          "height": 472
        },
        "outputId": "0ac90677-7e24-4c8d-9d92-ce26f7362be5"
      },
      "execution_count": 11,
      "outputs": [
        {
          "output_type": "display_data",
          "data": {
            "text/plain": [
              "<Figure size 640x480 with 1 Axes>"
            ],
            "image/png": "[encoded data removed]"
          },
          "metadata": {}
        }
      ]
    },
    {
      "cell_type": "markdown",
      "source": [
        "#### **Problem #2.2**\n",
        "\n",
        "A histogram by group shows the distribution of a numerical variable for different categories within a dataset, using multiple histograms overlaid or side-by-side. Use this plot to compare the distribution of a variable across different groups or categories."
      ],
      "metadata": {
        "id": "pcDxdf-4mnNU"
      }
    },
    {
      "cell_type": "code",
      "source": [
        "data = load_iris()\n",
        "df = pd.DataFrame(data.data, columns=data.feature_names)\n",
        "df['target'] = data.target\n",
        "\n",
        "plt.hist(df[df['target'] == 0]['sepal length (cm)'], bins=20, alpha=0.5, label='Class 0')\n",
        "plt.hist(df[df['target'] == 1]['sepal length (cm)'], bins=20, alpha=0.5, label='Class 1')\n",
        "plt.hist(df[df['target'] == 2]['sepal length (cm)'], bins=20, alpha=0.5, label='Class 2')\n",
        "\n",
        "plt.legend()\n",
        "plt.title(\"2. Histograms by Group\")\n",
        "plt.xlabel('Sepal Length (cm)')\n",
        "plt.ylabel('Frequency')\n",
        "\n",
        "plt.show()"
      ],
      "metadata": {
        "id": "pz1HBMzDd5Dg",
        "colab": {
          "base_uri": "https://localhost:8080/",
          "height": 472
        },
        "outputId": "66d84973-50a3-4b65-a39f-20fab06c7493"
      },
      "execution_count": 12,
      "outputs": [
        {
          "output_type": "display_data",
          "data": {
            "text/plain": [
              "<Figure size 640x480 with 1 Axes>"
            ],
            "image/png": "[encoded data removed]"
          },
          "metadata": {}
        }
      ]
    },
    {
      "cell_type": "markdown",
      "source": [
        "#### **Problem #2.3**\n",
        "\n",
        "An overlayed histogram displays multiple histograms for different groups on the same axes, with transparency to compare their distributions. This is useful for directly comparing the distributions of a variable across different groups while maintaining a clear view of overlaps."
      ],
      "metadata": {
        "id": "GwlKKwzamqM0"
      }
    },
    {
      "cell_type": "code",
      "source": [
        "df = sns.load_dataset('titanic')\n",
        "\n",
        "plt.hist(df[df['sex'] == 'male']['age'].dropna(), bins=20, alpha=0.5, label='Male')\n",
        "plt.hist(df[df['sex'] == 'female']['age'].dropna(), bins=20, alpha=0.5, label='Female')\n",
        "\n",
        "plt.legend()\n",
        "plt.title(\"3. Overlayed Histograms\")\n",
        "plt.xlabel('Age')\n",
        "plt.ylabel('Frequency')\n",
        "\n",
        "plt.show()"
      ],
      "metadata": {
        "colab": {
          "base_uri": "https://localhost:8080/",
          "height": 472
        },
        "id": "DZvpgXCAd6Fv",
        "outputId": "14c6763e-4b57-438a-e9bc-a114e8471b89"
      },
      "execution_count": 13,
      "outputs": [
        {
          "output_type": "display_data",
          "data": {
            "text/plain": [
              "<Figure size 640x480 with 1 Axes>"
            ],
            "image/png": "[encoded data removed]"
          },
          "metadata": {}
        }
      ]
    },
    {
      "cell_type": "markdown",
      "source": [
        "#### **Problem #2.4**\n",
        "\n",
        "A box plot (or box-and-whisker plot) summarizes the distribution of a numerical variable through its quartiles, highlighting the median, interquartile range (IQR), and potential outliers. Use box plots to compare distributions and identify outliers across one or more datasets."
      ],
      "metadata": {
        "id": "yhYelhPVmtmM"
      }
    },
    {
      "cell_type": "code",
      "source": [
        "df = sns.load_dataset('titanic')\n",
        "\n",
        "plt.boxplot(df['fare'].dropna(), vert=False)\n",
        "plt.title(\"4. Box Plots\")\n",
        "plt.xlabel('Fare')\n",
        "\n",
        "plt.show()"
      ],
      "metadata": {
        "colab": {
          "base_uri": "https://localhost:8080/",
          "height": 472
        },
        "id": "oS4WgdT7d7L5",
        "outputId": "57bf9ec5-082b-4a01-fa7c-451dd72fdc86"
      },
      "execution_count": 14,
      "outputs": [
        {
          "output_type": "display_data",
          "data": {
            "text/plain": [
              "<Figure size 640x480 with 1 Axes>"
            ],
            "image/png": "[encoded data removed]"
          },
          "metadata": {}
        }
      ]
    },
    {
      "cell_type": "markdown",
      "source": [
        "#### **Problem #2.5**\n",
        "\n",
        "A box plot by group shows multiple box plots for different categories within a dataset, allowing comparison of the distributions of a numerical variable across these categories. This is useful for comparing central tendency and variability among different groups."
      ],
      "metadata": {
        "id": "p3O_wwYamwmB"
      }
    },
    {
      "cell_type": "code",
      "source": [
        "data = load_iris()\n",
        "df = pd.DataFrame(data.data, columns=data.feature_names)\n",
        "df['species'] = data.target\n",
        "species = [df[df['species'] == i]['sepal length (cm)'] for i in range(3)]\n",
        "\n",
        "plt.boxplot(species, labels=['Setosa', 'Versicolor', 'Virginica'])\n",
        "\n",
        "plt.title(\"5. Box Plots by Group\")\n",
        "plt.xlabel('Species')\n",
        "plt.ylabel('Sepal Length (cm)')\n",
        "\n",
        "plt.show()"
      ],
      "metadata": {
        "colab": {
          "base_uri": "https://localhost:8080/",
          "height": 507
        },
        "id": "gjLzERPed9Ma",
        "outputId": "094aad92-5b38-46a8-fb9a-65257be744ec"
      },
      "execution_count": 15,
      "outputs": [
        {
          "output_type": "stream",
          "name": "stderr",
          "text": [
            "/tmp/ipython-input-15-4004956960.py:6: MatplotlibDeprecationWarning: The 'labels' parameter of boxplot() has been renamed 'tick_labels' since Matplotlib 3.9; support for the old name will be dropped in 3.11.\n",
            "  plt.boxplot(species, labels=['Setosa', 'Versicolor', 'Virginica'])\n"
          ]
        },
        {
          "output_type": "display_data",
          "data": {
            "text/plain": [
              "<Figure size 640x480 with 1 Axes>"
            ],
            "image/png": "[encoded data removed]"
          },
          "metadata": {}
        }
      ]
    },
    {
      "cell_type": "markdown",
      "source": [
        "#### **Problem #2.6**\n",
        "\n",
        "Multiple box plots display box plots for several variables side-by-side, enabling comparison of their distributions. Use this plot to compare the spread, central tendency, and outliers of multiple variables within the same dataset."
      ],
      "metadata": {
        "id": "_7grnpa_m0tM"
      }
    },
    {
      "cell_type": "code",
      "source": [
        "data = load_iris()\n",
        "\n",
        "plt.boxplot([df[col] for col in df.columns[:3]], labels=df.columns[:3])\n",
        "\n",
        "plt.title(\"6. Multiple Box Plots\")\n",
        "plt.xlabel('Features')\n",
        "plt.ylabel('Values')\n",
        "\n",
        "plt.show()"
      ],
      "metadata": {
        "colab": {
          "base_uri": "https://localhost:8080/",
          "height": 507
        },
        "id": "RO249Jhkd-A-",
        "outputId": "c9198996-ace5-4fe4-d363-50a3b5e84c2c"
      },
      "execution_count": 16,
      "outputs": [
        {
          "output_type": "stream",
          "name": "stderr",
          "text": [
            "/tmp/ipython-input-16-2367183189.py:3: MatplotlibDeprecationWarning: The 'labels' parameter of boxplot() has been renamed 'tick_labels' since Matplotlib 3.9; support for the old name will be dropped in 3.11.\n",
            "  plt.boxplot([df[col] for col in df.columns[:3]], labels=df.columns[:3])\n"
          ]
        },
        {
          "output_type": "display_data",
          "data": {
            "text/plain": [
              "<Figure size 640x480 with 1 Axes>"
            ],
            "image/png": "[encoded data removed]"
          },
          "metadata": {}
        }
      ]
    },
    {
      "cell_type": "markdown",
      "source": [
        "#### **Problem #2.7**\n",
        "\n",
        "A violin plot combines aspects of a box plot and a probability density (KDE) plot, displaying the distribution of a numerical variable through its probability density along with the median and quartiles. Use violin plots for a detailed view of the data distribution's shape and variability."
      ],
      "metadata": {
        "id": "Z2mijhTSm7Xk"
      }
    },
    {
      "cell_type": "code",
      "source": [
        "df = sns.load_dataset('titanic')\n",
        "data = df['age'].dropna()\n",
        "\n",
        "plt.violinplot(data, vert=False)\n",
        "plt.title(\"7. Violin Plot for Age\")\n",
        "plt.xlabel('Age')\n",
        "plt.show()"
      ],
      "metadata": {
        "colab": {
          "base_uri": "https://localhost:8080/",
          "height": 472
        },
        "id": "J1AoEe-ud_V6",
        "outputId": "97882d9e-721c-412e-e83f-ed2f9be60c0a"
      },
      "execution_count": 17,
      "outputs": [
        {
          "output_type": "display_data",
          "data": {
            "text/plain": [
              "<Figure size 640x480 with 1 Axes>"
            ],
            "image/png": "[encoded data removed]"
          },
          "metadata": {}
        }
      ]
    },
    {
      "cell_type": "markdown",
      "source": [
        "#### **Problem #2.8**\n",
        "\n",
        "A violin plot by group shows violin plots for different categories within a dataset, allowing comparison of the distributions of a numerical variable across these categories. This is useful for comparing the full distribution, including density, central tendency, and variability, among different groups."
      ],
      "metadata": {
        "id": "d0gKXYKQnKAx"
      }
    },
    {
      "cell_type": "code",
      "source": [
        "data = load_iris()\n",
        "df = pd.DataFrame(data.data, columns=data.feature_names)\n",
        "df['species'] = data.target\n",
        "\n",
        "species_data = [df[df['species'] == i]['sepal length (cm)'] for i in range(3)]\n",
        "\n",
        "plt.violinplot(species_data)\n",
        "\n",
        "plt.title(\"8. Violin Plots by Species\")\n",
        "plt.xlabel('Species')\n",
        "plt.ylabel('Sepal Length (cm)')\n",
        "plt.xticks([1, 2, 3], ['Setosa', 'Versicolor', 'Virginica'])\n",
        "\n",
        "plt.show()"
      ],
      "metadata": {
        "colab": {
          "base_uri": "https://localhost:8080/",
          "height": 472
        },
        "id": "Xj7VUE1neEjM",
        "outputId": "db408c5b-bdcb-417b-d1bf-691c8b2e68ea"
      },
      "execution_count": 18,
      "outputs": [
        {
          "output_type": "display_data",
          "data": {
            "text/plain": [
              "<Figure size 640x480 with 1 Axes>"
            ],
            "image/png": "[encoded data removed]"
          },
          "metadata": {}
        }
      ]
    },
    {
      "cell_type": "markdown",
      "source": [
        "<a name=\"p3\"></a>\n",
        "\n",
        "---\n",
        "## **Part 3: Chi-Squared and T-Tests for Feature Selection with Sklearn**\n",
        "---\n",
        "\n",
        "This section focuses on feature selection techniques using Chi-Squared and T-tests with sklearn, which are crucial for improving model performance by selecting the most relevant features.\n",
        "\n",
        "* The Chi-Squared test evaluates the independence of categorical features and the target variable, making it suitable for classification problems.\n",
        "\n",
        "* The ANOVA F-test (a type of T-test) compares the means of different groups to identify significant numerical features. These methods help in refining datasets by retaining only the most informative features."
      ],
      "metadata": {
        "id": "JydhBnJ_eJzz"
      }
    },
    {
      "cell_type": "markdown",
      "source": [
        "#### **Problem #3.1**\n",
        "\n",
        "Here we apply the Chi-Squared test to determine if there is a significant association between two categorical variables, such as the 'Embarked' and 'Survived' columns in the Titanic dataset. This helps in understanding relationships between categorical features and the target variable. A key part of this is that we can get the p-value from the chi-squared test directly from the sklearn `chi2(...)` method, which we can then use to help make a decision about whether we think there is an effect or not."
      ],
      "metadata": {
        "id": "8aBv-wZUn6yO"
      }
    },
    {
      "cell_type": "code",
      "source": [
        "df = sns.load_dataset('titanic')\n",
        "df = df.dropna(subset=['embarked', 'survived'])\n",
        "\n",
        "le = LabelEncoder()\n",
        "df['embarked_encoded'] = le.fit_transform(df['embarked'])\n",
        "df['survived_encoded'] = le.fit_transform(df['survived'])\n",
        "\n",
        "chi2_stat, p_val = chi2(df[['embarked_encoded']], df['survived_encoded'])\n",
        "\n",
        "print(\"1. Chi-Squared Test with Categorical Data:\")\n",
        "print(f\"Chi2 Stat: {chi2_stat[0]}, P-Value: {p_val[0]}\")"
      ],
      "metadata": {
        "colab": {
          "base_uri": "https://localhost:8080/"
        },
        "id": "AoMiezrXeRKk",
        "outputId": "294ef780-f86c-4ef9-a286-bf298eb7ecd4"
      },
      "execution_count": 19,
      "outputs": [
        {
          "output_type": "stream",
          "name": "stdout",
          "text": [
            "1. Chi-Squared Test with Categorical Data:\n",
            "Chi2 Stat: 10.45160096377068, P-Value: 0.0012254319914047369\n"
          ]
        }
      ]
    },
    {
      "cell_type": "markdown",
      "source": [
        "#### **Problem #3.2**\n",
        "\n",
        "One way to select which categorical features to use in a classification problem is to use the Chi-Squared test to evaluate the independence between each feature and the target variable, selecting the top features based on their Chi-Squared scores."
      ],
      "metadata": {
        "id": "YorKGRJVnhxR"
      }
    },
    {
      "cell_type": "code",
      "source": [
        "df = sns.load_dataset('titanic')\n",
        "df = df[['pclass', 'sex', 'age', 'sibsp', 'parch', 'fare', 'embarked', 'survived']].dropna()\n",
        "\n",
        "# One-hot encode categorical features\n",
        "df_encoded = pd.get_dummies(df, columns=['pclass', 'sex', 'embarked'], drop_first=True)\n",
        "\n",
        "# Separate features and target\n",
        "X = df_encoded.drop('survived', axis=1)\n",
        "y = df_encoded['survived']\n",
        "\n",
        "# Apply Chi-Squared feature selection\n",
        "selector = SelectKBest(chi2, k=5)\n",
        "X_new = selector.fit_transform(X, y)\n",
        "\n",
        "selected_features = X.columns[selector.get_support(indices=True)]\n",
        "discarded_features = X.columns[~selector.get_support(indices=True)]\n",
        "\n",
        "print(\"2. Chi-Squared Test for Feature Selection:\")\n",
        "print('Selected Features:', selected_features)\n",
        "print('Discarded Features:', discarded_features)"
      ],
      "metadata": {
        "colab": {
          "base_uri": "https://localhost:8080/"
        },
        "id": "sgN26R2qeFla",
        "outputId": "21735b4c-3a53-4a45-efb9-3d52ab4e44b7"
      },
      "execution_count": 20,
      "outputs": [
        {
          "output_type": "stream",
          "name": "stdout",
          "text": [
            "2. Chi-Squared Test for Feature Selection:\n",
            "Selected Features: Index(['age', 'parch', 'fare', 'pclass_3', 'sex_male'], dtype='object')\n",
            "Discarded Features: Index(['embarked_S', 'sex_male', 'pclass_3', 'fare', 'parch'], dtype='object')\n"
          ]
        }
      ]
    },
    {
      "cell_type": "markdown",
      "source": [
        "#### **Problem #3.3**\n",
        "\n",
        "Perform a T-Test (ANOVA F-test specifically) to select the most significant features by comparing the means of different groups. This test is helpful for selecting numerical features that contribute significantly to the target variable."
      ],
      "metadata": {
        "id": "Qt5KsLjVo1ff"
      }
    },
    {
      "cell_type": "code",
      "source": [
        "data = load_breast_cancer()\n",
        "X, y = data.data, data.target\n",
        "\n",
        "selector = SelectKBest(f_classif, k=5)\n",
        "X_new = selector.fit_transform(X, y)\n",
        "selected_features = [data.feature_names[i] for i in selector.get_support(indices=True)]\n",
        "discarded_features = [data.feature_names[i] for i in range(X.shape[1]) if i not in selector.get_support(indices=True)]\n",
        "\n",
        "print(\"3. T-Test for Feature Selection:\")\n",
        "print('Selected Features:', selected_features)\n",
        "print('Discarded Features:', discarded_features)"
      ],
      "metadata": {
        "colab": {
          "base_uri": "https://localhost:8080/"
        },
        "id": "1N8YxYjmeUag",
        "outputId": "593bea53-3e52-421b-86cb-24e9285de779"
      },
      "execution_count": 21,
      "outputs": [
        {
          "output_type": "stream",
          "name": "stdout",
          "text": [
            "3. T-Test for Feature Selection:\n",
            "Selected Features: [np.str_('mean perimeter'), np.str_('mean concave points'), np.str_('worst radius'), np.str_('worst perimeter'), np.str_('worst concave points')]\n",
            "Discarded Features: [np.str_('mean radius'), np.str_('mean texture'), np.str_('mean area'), np.str_('mean smoothness'), np.str_('mean compactness'), np.str_('mean concavity'), np.str_('mean symmetry'), np.str_('mean fractal dimension'), np.str_('radius error'), np.str_('texture error'), np.str_('perimeter error'), np.str_('area error'), np.str_('smoothness error'), np.str_('compactness error'), np.str_('concavity error'), np.str_('concave points error'), np.str_('symmetry error'), np.str_('fractal dimension error'), np.str_('worst texture'), np.str_('worst area'), np.str_('worst smoothness'), np.str_('worst compactness'), np.str_('worst concavity'), np.str_('worst symmetry'), np.str_('worst fractal dimension')]\n"
          ]
        }
      ]
    },
    {
      "cell_type": "markdown",
      "source": [
        "#### **Problem #3.4**\n",
        "\n",
        "Conduct a paired T-test to compare the means of two related variables, such as `sepal length` and `sepal width` for each species in the Iris dataset. This helps in understanding the relationship and differences between paired measurements."
      ],
      "metadata": {
        "id": "U5GjWKxKqFhd"
      }
    },
    {
      "cell_type": "code",
      "source": [
        "data = load_iris()\n",
        "df = pd.DataFrame(data.data, columns=data.feature_names)\n",
        "species = data.target_names[data.target]\n",
        "print(\"4. Paired T-Test:\")\n",
        "for sp in set(species):\n",
        "    df_sp = df[species == sp]\n",
        "    t_stat, p_val = ttest_rel(df_sp['sepal length (cm)'], df_sp['sepal width (cm)'])\n",
        "    print(f\"Species: {sp}, T-Stat: {t_stat}, P-Value: {p_val}\")"
      ],
      "metadata": {
        "colab": {
          "base_uri": "https://localhost:8080/"
        },
        "id": "9xB7KejSeW6U",
        "outputId": "898304ff-5868-43b7-e94f-97eed95973f0"
      },
      "execution_count": 22,
      "outputs": [
        {
          "output_type": "stream",
          "name": "stdout",
          "text": [
            "4. Paired T-Test:\n",
            "Species: virginica, T-Stat: 45.11720183309328, P-Value: 1.4240601345854564e-41\n",
            "Species: setosa, T-Stat: 42.32339235217487, P-Value: 3.0231710793686155e-40\n",
            "Species: versicolor, T-Stat: 50.75716766574763, P-Value: 4.99477639160663e-44\n"
          ]
        }
      ]
    },
    {
      "cell_type": "markdown",
      "source": [
        "<a name=\"p4\"></a>\n",
        "\n",
        "---\n",
        "## **Part 4: T-Tests for Model Selection with Sklearn**\n",
        "---\n",
        "\n",
        "In this section, we use T-tests to compare the performance of different machine learning models, ensuring that the observed differences are statistically significant. By applying T-tests to cross-validated scores of various models, we can objectively determine which model performs better. This includes comparing classifiers like Logistic Regression and SVM, or regression models like Linear Regression and Ridge. These statistical tests provide a rigorous approach to model evaluation and selection, enhancing the reliability of our conclusions.\n",
        "\n",
        "<br>\n",
        "\n",
        "In practice, it's important to decide on the t-test results and p-values that will lead to different decisions *before* running any tests to avoid any possible bias and to maintain scientific integrity. In general,\n",
        "\n",
        "* T-Statistic (T-Stat): This value indicates the size of the difference relative to the variation in your sample data. A larger absolute T-statistic suggests a greater difference between the two sets of scores.\n",
        "\n",
        "* P-Value: This value indicates the probability of observing the data, or something more extreme, assuming that the null hypothesis is true. The null hypothesis typically states that there is no difference between the models' performances.\n",
        "\n",
        "\n",
        "The convention is to set a significance level (a value below which we reject the null hypothesis) of 0.05. If we want to be *very* sure, we may choose closer to 0.01.\n",
        "\n",
        "<br>\n",
        "\n",
        "These values can be confusing to interpret, even for experts! Some important misconceptions and misinterpretations to be aware of:\n",
        "\n",
        "* Assuming Significance Based on T-Stat Alone: A high T-Stat alone doesn't guarantee significance; you must consider the P-value.\n",
        "* Misinterpreting High P-Values: High P-values do not confirm that the models are equivalent; they indicate insufficient evidence to declare a significant difference.\n",
        "* Ignoring Practical Significance: Even if there is no statistically significant difference, practical significance (e.g., model interpretability, training time, etc.) might still favor one model over another.\n",
        "* Overlooking Assumptions of the T-Test: Ensure the assumptions of the T-test are met, including the distribution of differences and independence of samples.\n",
        "* One-Time Evaluation: Cross-validation and multiple runs should be used to ensure the robustness of the results."
      ],
      "metadata": {
        "id": "ob5QuPmIeZ0t"
      }
    },
    {
      "cell_type": "markdown",
      "source": [
        "#### **Problem #4.1**\n",
        "\n",
        "Here, we train two different classifiers (Logistic Regression and SVM) on the same dataset and use a T-test to compare their cross-validated accuracies. This helps determine if there is a statistically significant difference in their performance."
      ],
      "metadata": {
        "id": "dXq42Oo0rjQW"
      }
    },
    {
      "cell_type": "code",
      "source": [
        "data = load_iris()\n",
        "X, y = data.data, data.target\n",
        "X_train, X_test, y_train, y_test = train_test_split(X, y, test_size=0.3, random_state=42)\n",
        "\n",
        "model1 = LogisticRegression(max_iter=200)\n",
        "model2 = SVC()\n",
        "\n",
        "scores1 = cross_val_score(model1, X_train, y_train, cv=5)\n",
        "scores2 = cross_val_score(model2, X_train, y_train, cv=5)\n",
        "\n",
        "t_stat, p_val = ttest_ind(scores1, scores2)\n",
        "print(\"1. T-Test for Comparing Models:\")\n",
        "print(f\"T-Stat: {t_stat}, P-Value: {p_val}\\n\")\n",
        "\n",
        "# Interpretation\n",
        "if p_val > 0.05:\n",
        "    print(\"There is no statistically significant difference between the model performances.\")\n",
        "else:\n",
        "    print(\"There is a statistically significant difference between the model performances.\")"
      ],
      "metadata": {
        "colab": {
          "base_uri": "https://localhost:8080/"
        },
        "id": "6GiUvuBCeeQZ",
        "outputId": "a2cfb9f2-dce3-4cae-910a-b97e3e61aca0"
      },
      "execution_count": 23,
      "outputs": [
        {
          "output_type": "stream",
          "name": "stdout",
          "text": [
            "1. T-Test for Comparing Models:\n",
            "T-Stat: 0.3429971702850164, P-Value: 0.7404394537249632\n",
            "\n",
            "There is no statistically significant difference between the model performances.\n"
          ]
        }
      ]
    },
    {
      "cell_type": "markdown",
      "source": [
        "#### **Problem #4.2**\n",
        "\n",
        "Here, we perform cross-validation on two models (e.g., Decision Tree and Random Forest) using the same dataset and compare their mean cross-validated scores using a T-test. This helps in evaluating which model performs better statistically."
      ],
      "metadata": {
        "id": "ncb9xCaRsCf-"
      }
    },
    {
      "cell_type": "code",
      "source": [
        "data = load_iris()\n",
        "X, y = data.data, data.target\n",
        "\n",
        "model1 = DecisionTreeClassifier()\n",
        "model2 = RandomForestClassifier()\n",
        "\n",
        "scores1 = cross_val_score(model1, X, y, cv=5)\n",
        "scores2 = cross_val_score(model2, X, y, cv=5)\n",
        "\n",
        "t_stat, p_val = ttest_ind(scores1, scores2)\n",
        "print(\"2. T-Test for Cross-Validated Scores:\")\n",
        "print(f\"T-Stat: {t_stat}, P-Value: {p_val}\\n\")\n",
        "\n",
        "# Interpretation\n",
        "if p_val > 0.05:\n",
        "    print(\"There is no statistically significant difference between the model performances.\")\n",
        "else:\n",
        "    print(\"There is a statistically significant difference between the model performances.\")"
      ],
      "metadata": {
        "colab": {
          "base_uri": "https://localhost:8080/"
        },
        "id": "ZDEzIu8LefiT",
        "outputId": "123faf89-9692-40ec-aa5b-452782a93e96"
      },
      "execution_count": 24,
      "outputs": [
        {
          "output_type": "stream",
          "name": "stdout",
          "text": [
            "2. T-Test for Cross-Validated Scores:\n",
            "T-Stat: 0.3015113445777706, P-Value: 0.7707132785693195\n",
            "\n",
            "There is no statistically significant difference between the model performances.\n"
          ]
        }
      ]
    },
    {
      "cell_type": "markdown",
      "source": [
        "#### **Problem #4.3**\n",
        "\n",
        "Here, train and evaluate two regression models (e.g., Linear Regression and Ridge Regression) on the Diabetes dataset, and use a paired T-test to compare their performance. This helps determine if the performance difference is statistically significant."
      ],
      "metadata": {
        "id": "WUTYzOg5sKhe"
      }
    },
    {
      "cell_type": "code",
      "execution_count": 25,
      "metadata": {
        "id": "GM0bE69Y5vyU",
        "colab": {
          "base_uri": "https://localhost:8080/"
        },
        "outputId": "6d9cc2da-9b91-4e5f-b42a-965685b65c4a"
      },
      "outputs": [
        {
          "output_type": "stream",
          "name": "stdout",
          "text": [
            "3. Paired T-Test for Model Performance using the Diabetes Dataset:\n",
            "T-Stat: 2.8531658898635115, P-Value: 0.0462475779862285\n",
            "\n",
            "There is a statistically significant difference between the model performances.\n"
          ]
        }
      ],
      "source": [
        "from sklearn.datasets import load_diabetes\n",
        "from sklearn.model_selection import train_test_split, cross_val_score\n",
        "from sklearn.linear_model import LinearRegression, Ridge\n",
        "from scipy.stats import ttest_rel\n",
        "\n",
        "# Load the diabetes dataset\n",
        "data = load_diabetes()\n",
        "X, y = data.data, data.target\n",
        "\n",
        "# Split the dataset\n",
        "X_train, X_test, y_train, y_test = train_test_split(X, y, test_size=0.3, random_state=42)\n",
        "\n",
        "# Train Linear Regression and Ridge Regression models\n",
        "model1 = LinearRegression()\n",
        "model2 = Ridge()\n",
        "\n",
        "# Perform cross-validation and calculate the negative mean squared error\n",
        "scores1 = cross_val_score(model1, X_train, y_train, cv=5, scoring='neg_mean_squared_error')\n",
        "scores2 = cross_val_score(model2, X_train, y_train, cv=5, scoring='neg_mean_squared_error')\n",
        "\n",
        "# Perform a paired T-test\n",
        "t_stat, p_val = ttest_rel(scores1, scores2)\n",
        "\n",
        "# Output results\n",
        "print(\"3. Paired T-Test for Model Performance using the Diabetes Dataset:\")\n",
        "print(f\"T-Stat: {t_stat}, P-Value: {p_val}\\n\")\n",
        "\n",
        "# Interpretation\n",
        "if p_val > 0.05:\n",
        "    print(\"There is no statistically significant difference between the model performances.\")\n",
        "else:\n",
        "    print(\"There is a statistically significant difference between the model performances.\")"
      ]
    },
    {
      "cell_type": "markdown",
      "source": [
        "<a name=\"p5\"></a>\n",
        "\n",
        "---\n",
        "## **Part 5: Challenge Problem**\n",
        "---\n",
        "\n",
        "In this section, it's up to you to apply what you've learned from above to accomplish the following open ended challenge: Conduct an exploratory data analysis (EDA) and perform hypothesis testing on one of the datasets below. Your task is to uncover interesting insights and make a precise claim based on statistical tests.\n",
        "\n",
        "<br>\n",
        "\n",
        "**Requirements**\n",
        "1. **Data Exploration**: Use at least one of the following: quartiles, IQR, histograms, box plots, or violin plots to explore the dataset and present your findings.\n",
        "\n",
        "2. **Hypothesis Testing**: Determine specific null and alternative hypotheses and a significance level. To test these hypotheses, perform at least one of the following tests: T-test or Chi-squared test. Make a precise claim based on the results of your statistical test, supported by the p-value and the significance level.\n",
        "\n",
        "3. **Report**: Provide a clear and concise report detailing your EDA, the hypothesis you tested, the results, and the interpretation of the P-value. Include at least one visualization to support your findings.\n",
        "\n",
        "<br>\n",
        "\n",
        "**Data Sets**\n",
        "\n",
        "You must use *one* of these datasets:\n",
        "\n",
        "* **Titanic Dataset**:\n",
        "> * **Description**: Analyze the survival rates on the Titanic based on various features such as age, sex, class, and fare.\n",
        "> * **Potential Tasks**: Explore survival rates using visualizations, and perform a Chi-squared test to see if survival is independent of class or sex.\n",
        "\n",
        "* **Diabetes Dataset**:\n",
        "> * **Description**: Analyze the health indicators of diabetes patients.\n",
        "> * **Potential Tasks**: Explore the distribution of health indicators such as blood pressure, BMI, and glucose levels using visualizations. Perform a T-test to compare the means of two continuous features or groups."
      ],
      "metadata": {
        "id": "Sjn6asNN5Ej5"
      }
    },
    {
      "cell_type": "markdown",
      "source": [
        "#### **Load the Titanic Dataset**"
      ],
      "metadata": {
        "id": "7_T4Ntx5-Ee5"
      }
    },
    {
      "cell_type": "code",
      "source": [
        "url = \"https://raw.githubusercontent.com/the-codingschool/TRAIN-datasets/main/titanic/titanic_cleaned.csv\"\n",
        "df = pd.read_csv(url)\n",
        "\n",
        "df = df[['Survived', 'Pclass', 'Sex', 'Age', 'Sibsp', 'Parch', 'Fare','Embarked', 'HasCabin']]\n",
        "\n",
        "df.head()"
      ],
      "metadata": {
        "colab": {
          "base_uri": "https://localhost:8080/",
          "height": 206
        },
        "id": "o-1t6IO797Vj",
        "outputId": "4eb85249-f5f2-4ade-8dec-0be12a64fd93"
      },
      "execution_count": 26,
      "outputs": [
        {
          "output_type": "execute_result",
          "data": {
            "text/plain": [
              "   Survived  Pclass     Sex  Age  Sibsp  Parch     Fare Embarked  HasCabin\n",
              "0         0       3    male   22      1      0   7.2500        S     False\n",
              "1         1       1  female   38      1      0  71.2833        C      True\n",
              "2         1       3  female   26      0      0   7.9250        S     False\n",
              "3         1       1  female   35      1      0  53.1000        S      True\n",
              "4         0       3    male   35      0      0   8.0500        S     False"
            ],
            "text/html": [
              "\n",
              "  <div id=\"df-5b089704-ec42-4446-b7b5-55131b6c54b1\" class=\"colab-df-container\">\n",
              "    <div>\n",
              "<style scoped>\n",
              "    .dataframe tbody tr th:only-of-type {\n",
              "        vertical-align: middle;\n",
              "    }\n",
              "\n",
              "    .dataframe tbody tr th {\n",
              "        vertical-align: top;\n",
              "    }\n",
              "\n",
              "    .dataframe thead th {\n",
              "        text-align: right;\n",
              "    }\n",
              "</style>\n",
              "<table border=\"1\" class=\"dataframe\">\n",
              "  <thead>\n",
              "    <tr style=\"text-align: right;\">\n",
              "      <th></th>\n",
              "      <th>Survived</th>\n",
              "      <th>Pclass</th>\n",
              "      <th>Sex</th>\n",
              "      <th>Age</th>\n",
              "      <th>Sibsp</th>\n",
              "      <th>Parch</th>\n",
              "      <th>Fare</th>\n",
              "      <th>Embarked</th>\n",
              "      <th>HasCabin</th>\n",
              "    </tr>\n",
              "  </thead>\n",
              "  <tbody>\n",
              "    <tr>\n",
              "      <th>0</th>\n",
              "      <td>0</td>\n",
              "      <td>3</td>\n",
              "      <td>male</td>\n",
              "      <td>22</td>\n",
              "      <td>1</td>\n",
              "      <td>0</td>\n",
              "      <td>7.2500</td>\n",
              "      <td>S</td>\n",
              "      <td>False</td>\n",
              "    </tr>\n",
              "    <tr>\n",
              "      <th>1</th>\n",
              "      <td>1</td>\n",
              "      <td>1</td>\n",
              "      <td>female</td>\n",
              "      <td>38</td>\n",
              "      <td>1</td>\n",
              "      <td>0</td>\n",
              "      <td>71.2833</td>\n",
              "      <td>C</td>\n",
              "      <td>True</td>\n",
              "    </tr>\n",
              "    <tr>\n",
              "      <th>2</th>\n",
              "      <td>1</td>\n",
              "      <td>3</td>\n",
              "      <td>female</td>\n",
              "      <td>26</td>\n",
              "      <td>0</td>\n",
              "      <td>0</td>\n",
              "      <td>7.9250</td>\n",
              "      <td>S</td>\n",
              "      <td>False</td>\n",
              "    </tr>\n",
              "    <tr>\n",
              "      <th>3</th>\n",
              "      <td>1</td>\n",
              "      <td>1</td>\n",
              "      <td>female</td>\n",
              "      <td>35</td>\n",
              "      <td>1</td>\n",
              "      <td>0</td>\n",
              "      <td>53.1000</td>\n",
              "      <td>S</td>\n",
              "      <td>True</td>\n",
              "    </tr>\n",
              "    <tr>\n",
              "      <th>4</th>\n",
              "      <td>0</td>\n",
              "      <td>3</td>\n",
              "      <td>male</td>\n",
              "      <td>35</td>\n",
              "      <td>0</td>\n",
              "      <td>0</td>\n",
              "      <td>8.0500</td>\n",
              "      <td>S</td>\n",
              "      <td>False</td>\n",
              "    </tr>\n",
              "  </tbody>\n",
              "</table>\n",
              "</div>\n",
              "    <div class=\"colab-df-buttons\">\n",
              "\n",
              "  <div class=\"colab-df-container\">\n",
              "    <button class=\"colab-df-convert\" onclick=\"convertToInteractive('df-5b089704-ec42-4446-b7b5-55131b6c54b1')\"\n",
              "            title=\"Convert this dataframe to an interactive table.\"\n",
              "            style=\"display:none;\">\n",
              "\n",
              "  <svg xmlns=\"http://www.w3.org/2000/svg\" height=\"24px\" viewBox=\"0 -960 960 960\">\n",
              "    <path d=\"M120-120v-720h720v720H120Zm60-500h600v-160H180v160Zm220 220h160v-160H400v160Zm0 220h160v-160H400v160ZM180-400h160v-160H180v160Zm440 0h160v-160H620v160ZM180-180h160v-160H180v160Zm440 0h160v-160H620v160Z\"/>\n",
              "  </svg>\n",
              "    </button>\n",
              "\n",
              "  <style>\n",
              "    .colab-df-container {\n",
              "      display:flex;\n",
              "      gap: 12px;\n",
              "    }\n",
              "\n",
              "    .colab-df-convert {\n",
              "      background-color: #E8F0FE;\n",
              "      border: none;\n",
              "      border-radius: 50%;\n",
              "      cursor: pointer;\n",
              "      display: none;\n",
              "      fill: #1967D2;\n",
              "      height: 32px;\n",
              "      padding: 0 0 0 0;\n",
              "      width: 32px;\n",
              "    }\n",
              "\n",
              "    .colab-df-convert:hover {\n",
              "      background-color: #E2EBFA;\n",
              "      box-shadow: 0px 1px 2px rgba(60, 64, 67, 0.3), 0px 1px 3px 1px rgba(60, 64, 67, 0.15);\n",
              "      fill: #174EA6;\n",
              "    }\n",
              "\n",
              "    .colab-df-buttons div {\n",
              "      margin-bottom: 4px;\n",
              "    }\n",
              "\n",
              "    [theme=dark] .colab-df-convert {\n",
              "      background-color: #3B4455;\n",
              "      fill: #D2E3FC;\n",
              "    }\n",
              "\n",
              "    [theme=dark] .colab-df-convert:hover {\n",
              "      background-color: #434B5C;\n",
              "      box-shadow: 0px 1px 3px 1px rgba(0, 0, 0, 0.15);\n",
              "      filter: drop-shadow(0px 1px 2px rgba(0, 0, 0, 0.3));\n",
              "      fill: #FFFFFF;\n",
              "    }\n",
              "  </style>\n",
              "\n",
              "    <script>\n",
              "      const buttonEl =\n",
              "        document.querySelector('#df-5b089704-ec42-4446-b7b5-55131b6c54b1 button.colab-df-convert');\n",
              "      buttonEl.style.display =\n",
              "        google.colab.kernel.accessAllowed ? 'block' : 'none';\n",
              "\n",
              "      async function convertToInteractive(key) {\n",
              "        const element = document.querySelector('#df-5b089704-ec42-4446-b7b5-55131b6c54b1');\n",
              "        const dataTable =\n",
              "          await google.colab.kernel.invokeFunction('convertToInteractive',\n",
              "                                                    [key], {});\n",
              "        if (!dataTable) return;\n",
              "\n",
              "        const docLinkHtml = 'Like what you see? Visit the ' +\n",
              "          '<a target=\"_blank\" href=https://colab.research.google.com/notebooks/data_table.ipynb>data table notebook</a>'\n",
              "          + ' to learn more about interactive tables.';\n",
              "        element.innerHTML = '';\n",
              "        dataTable['output_type'] = 'display_data';\n",
              "        await google.colab.output.renderOutput(dataTable, element);\n",
              "        const docLink = document.createElement('div');\n",
              "        docLink.innerHTML = docLinkHtml;\n",
              "        element.appendChild(docLink);\n",
              "      }\n",
              "    </script>\n",
              "  </div>\n",
              "\n",
              "\n",
              "    <div id=\"df-ad4b14d5-3650-4976-b4cf-c5876057adca\">\n",
              "      <button class=\"colab-df-quickchart\" onclick=\"quickchart('df-ad4b14d5-3650-4976-b4cf-c5876057adca')\"\n",
              "                title=\"Suggest charts\"\n",
              "                style=\"display:none;\">\n",
              "\n",
              "<svg xmlns=\"http://www.w3.org/2000/svg\" height=\"24px\"viewBox=\"0 0 24 24\"\n",
              "     width=\"24px\">\n",
              "    <g>\n",
              "        <path d=\"M19 3H5c-1.1 0-2 .9-2 2v14c0 1.1.9 2 2 2h14c1.1 0 2-.9 2-2V5c0-1.1-.9-2-2-2zM9 17H7v-7h2v7zm4 0h-2V7h2v10zm4 0h-2v-4h2v4z\"/>\n",
              "    </g>\n",
              "</svg>\n",
              "      </button>\n",
              "\n",
              "<style>\n",
              "  .colab-df-quickchart {\n",
              "      --bg-color: #E8F0FE;\n",
              "      --fill-color: #1967D2;\n",
              "      --hover-bg-color: #E2EBFA;\n",
              "      --hover-fill-color: #174EA6;\n",
              "      --disabled-fill-color: #AAA;\n",
              "      --disabled-bg-color: #DDD;\n",
              "  }\n",
              "\n",
              "  [theme=dark] .colab-df-quickchart {\n",
              "      --bg-color: #3B4455;\n",
              "      --fill-color: #D2E3FC;\n",
              "      --hover-bg-color: #434B5C;\n",
              "      --hover-fill-color: #FFFFFF;\n",
              "      --disabled-bg-color: #3B4455;\n",
              "      --disabled-fill-color: #666;\n",
              "  }\n",
              "\n",
              "  .colab-df-quickchart {\n",
              "    background-color: var(--bg-color);\n",
              "    border: none;\n",
              "    border-radius: 50%;\n",
              "    cursor: pointer;\n",
              "    display: none;\n",
              "    fill: var(--fill-color);\n",
              "    height: 32px;\n",
              "    padding: 0;\n",
              "    width: 32px;\n",
              "  }\n",
              "\n",
              "  .colab-df-quickchart:hover {\n",
              "    background-color: var(--hover-bg-color);\n",
              "    box-shadow: 0 1px 2px rgba(60, 64, 67, 0.3), 0 1px 3px 1px rgba(60, 64, 67, 0.15);\n",
              "    fill: var(--button-hover-fill-color);\n",
              "  }\n",
              "\n",
              "  .colab-df-quickchart-complete:disabled,\n",
              "  .colab-df-quickchart-complete:disabled:hover {\n",
              "    background-color: var(--disabled-bg-color);\n",
              "    fill: var(--disabled-fill-color);\n",
              "    box-shadow: none;\n",
              "  }\n",
              "\n",
              "  .colab-df-spinner {\n",
              "    border: 2px solid var(--fill-color);\n",
              "    border-color: transparent;\n",
              "    border-bottom-color: var(--fill-color);\n",
              "    animation:\n",
              "      spin 1s steps(1) infinite;\n",
              "  }\n",
              "\n",
              "  @keyframes spin {\n",
              "    0% {\n",
              "      border-color: transparent;\n",
              "      border-bottom-color: var(--fill-color);\n",
              "      border-left-color: var(--fill-color);\n",
              "    }\n",
              "    20% {\n",
              "      border-color: transparent;\n",
              "      border-left-color: var(--fill-color);\n",
              "      border-top-color: var(--fill-color);\n",
              "    }\n",
              "    30% {\n",
              "      border-color: transparent;\n",
              "      border-left-color: var(--fill-color);\n",
              "      border-top-color: var(--fill-color);\n",
              "      border-right-color: var(--fill-color);\n",
              "    }\n",
              "    40% {\n",
              "      border-color: transparent;\n",
              "      border-right-color: var(--fill-color);\n",
              "      border-top-color: var(--fill-color);\n",
              "    }\n",
              "    60% {\n",
              "      border-color: transparent;\n",
              "      border-right-color: var(--fill-color);\n",
              "    }\n",
              "    80% {\n",
              "      border-color: transparent;\n",
              "      border-right-color: var(--fill-color);\n",
              "      border-bottom-color: var(--fill-color);\n",
              "    }\n",
              "    90% {\n",
              "      border-color: transparent;\n",
              "      border-bottom-color: var(--fill-color);\n",
              "    }\n",
              "  }\n",
              "</style>\n",
              "\n",
              "      <script>\n",
              "        async function quickchart(key) {\n",
              "          const quickchartButtonEl =\n",
              "            document.querySelector('#' + key + ' button');\n",
              "          quickchartButtonEl.disabled = true;  // To prevent multiple clicks.\n",
              "          quickchartButtonEl.classList.add('colab-df-spinner');\n",
              "          try {\n",
              "            const charts = await google.colab.kernel.invokeFunction(\n",
              "                'suggestCharts', [key], {});\n",
              "          } catch (error) {\n",
              "            console.error('Error during call to suggestCharts:', error);\n",
              "          }\n",
              "          quickchartButtonEl.classList.remove('colab-df-spinner');\n",
              "          quickchartButtonEl.classList.add('colab-df-quickchart-complete');\n",
              "        }\n",
              "        (() => {\n",
              "          let quickchartButtonEl =\n",
              "            document.querySelector('#df-ad4b14d5-3650-4976-b4cf-c5876057adca button');\n",
              "          quickchartButtonEl.style.display =\n",
              "            google.colab.kernel.accessAllowed ? 'block' : 'none';\n",
              "        })();\n",
              "      </script>\n",
              "    </div>\n",
              "\n",
              "    </div>\n",
              "  </div>\n"
            ],
            "application/vnd.google.colaboratory.intrinsic+json": {
              "type": "dataframe",
              "variable_name": "df",
              "summary": "{\n  \"name\": \"df\",\n  \"rows\": 891,\n  \"fields\": [\n    {\n      \"column\": \"Survived\",\n      \"properties\": {\n        \"dtype\": \"number\",\n        \"std\": 0,\n        \"min\": 0,\n        \"max\": 1,\n        \"num_unique_values\": 2,\n        \"samples\": [\n          1,\n          0\n        ],\n        \"semantic_type\": \"\",\n        \"description\": \"\"\n      }\n    },\n    {\n      \"column\": \"Pclass\",\n      \"properties\": {\n        \"dtype\": \"number\",\n        \"std\": 0,\n        \"min\": 1,\n        \"max\": 3,\n        \"num_unique_values\": 3,\n        \"samples\": [\n          3,\n          1\n        ],\n        \"semantic_type\": \"\",\n        \"description\": \"\"\n      }\n    },\n    {\n      \"column\": \"Sex\",\n      \"properties\": {\n        \"dtype\": \"category\",\n        \"num_unique_values\": 2,\n        \"samples\": [\n          \"female\",\n          \"male\"\n        ],\n        \"semantic_type\": \"\",\n        \"description\": \"\"\n      }\n    },\n    {\n      \"column\": \"Age\",\n      \"properties\": {\n        \"dtype\": \"number\",\n        \"std\": 13,\n        \"min\": 0,\n        \"max\": 80,\n        \"num_unique_values\": 71,\n        \"samples\": [\n          21,\n          22\n        ],\n        \"semantic_type\": \"\",\n        \"description\": \"\"\n      }\n    },\n    {\n      \"column\": \"Sibsp\",\n      \"properties\": {\n        \"dtype\": \"number\",\n        \"std\": 1,\n        \"min\": 0,\n        \"max\": 8,\n        \"num_unique_values\": 7,\n        \"samples\": [\n          1,\n          0\n        ],\n        \"semantic_type\": \"\",\n        \"description\": \"\"\n      }\n    },\n    {\n      \"column\": \"Parch\",\n      \"properties\": {\n        \"dtype\": \"number\",\n        \"std\": 0,\n        \"min\": 0,\n        \"max\": 6,\n        \"num_unique_values\": 7,\n        \"samples\": [\n          0,\n          1\n        ],\n        \"semantic_type\": \"\",\n        \"description\": \"\"\n      }\n    },\n    {\n      \"column\": \"Fare\",\n      \"properties\": {\n        \"dtype\": \"number\",\n        \"std\": 49.693428597180905,\n        \"min\": 0.0,\n        \"max\": 512.3292,\n        \"num_unique_values\": 248,\n        \"samples\": [\n          11.2417,\n          51.8625\n        ],\n        \"semantic_type\": \"\",\n        \"description\": \"\"\n      }\n    },\n    {\n      \"column\": \"Embarked\",\n      \"properties\": {\n        \"dtype\": \"category\",\n        \"num_unique_values\": 3,\n        \"samples\": [\n          \"S\",\n          \"C\"\n        ],\n        \"semantic_type\": \"\",\n        \"description\": \"\"\n      }\n    },\n    {\n      \"column\": \"HasCabin\",\n      \"properties\": {\n        \"dtype\": \"boolean\",\n        \"num_unique_values\": 2,\n        \"samples\": [\n          true,\n          false\n        ],\n        \"semantic_type\": \"\",\n        \"description\": \"\"\n      }\n    }\n  ]\n}"
            }
          },
          "metadata": {},
          "execution_count": 26
        }
      ]
    },
    {
      "cell_type": "markdown",
      "source": [
        "#### **Load the Diabetes Dataset**"
      ],
      "metadata": {
        "id": "Jvxw0MUn-B6t"
      }
    },
    {
      "cell_type": "code",
      "source": [
        "url = \"https://raw.githubusercontent.com/the-codingschool/TRAIN/main/diabetes/diabetes_prediction.xlsx\"\n",
        "df = pd.read_excel(url)\n",
        "\n",
        "df.head()"
      ],
      "metadata": {
        "colab": {
          "base_uri": "https://localhost:8080/",
          "height": 206
        },
        "id": "_OVmlWK59e4v",
        "outputId": "ac471a46-e117-472a-9dc0-87c6511c3c4f"
      },
      "execution_count": 27,
      "outputs": [
        {
          "output_type": "execute_result",
          "data": {
            "text/plain": [
              "   Pregnancies  Glucose  BloodPressure  SkinThickness  Insulin   BMI  \\\n",
              "0            6      148             72             35        0  33.6   \n",
              "1            1       85             66             29        0  26.6   \n",
              "2            8      183             64              0        0  23.3   \n",
              "3            1       89             66             23       94  28.1   \n",
              "4            0      137             40             35      168  43.1   \n",
              "\n",
              "   DiabetesPedigreeFunction  Age  Outcome  \n",
              "0                     0.627   50        1  \n",
              "1                     0.351   31        0  \n",
              "2                     0.672   32        1  \n",
              "3                     0.167   21        0  \n",
              "4                     2.288   33        1  "
            ],
            "text/html": [
              "\n",
              "  <div id=\"df-3cd2b7cb-2386-42e9-ad3b-ea13731efab8\" class=\"colab-df-container\">\n",
              "    <div>\n",
              "<style scoped>\n",
              "    .dataframe tbody tr th:only-of-type {\n",
              "        vertical-align: middle;\n",
              "    }\n",
              "\n",
              "    .dataframe tbody tr th {\n",
              "        vertical-align: top;\n",
              "    }\n",
              "\n",
              "    .dataframe thead th {\n",
              "        text-align: right;\n",
              "    }\n",
              "</style>\n",
              "<table border=\"1\" class=\"dataframe\">\n",
              "  <thead>\n",
              "    <tr style=\"text-align: right;\">\n",
              "      <th></th>\n",
              "      <th>Pregnancies</th>\n",
              "      <th>Glucose</th>\n",
              "      <th>BloodPressure</th>\n",
              "      <th>SkinThickness</th>\n",
              "      <th>Insulin</th>\n",
              "      <th>BMI</th>\n",
              "      <th>DiabetesPedigreeFunction</th>\n",
              "      <th>Age</th>\n",
              "      <th>Outcome</th>\n",
              "    </tr>\n",
              "  </thead>\n",
              "  <tbody>\n",
              "    <tr>\n",
              "      <th>0</th>\n",
              "      <td>6</td>\n",
              "      <td>148</td>\n",
              "      <td>72</td>\n",
              "      <td>35</td>\n",
              "      <td>0</td>\n",
              "      <td>33.6</td>\n",
              "      <td>0.627</td>\n",
              "      <td>50</td>\n",
              "      <td>1</td>\n",
              "    </tr>\n",
              "    <tr>\n",
              "      <th>1</th>\n",
              "      <td>1</td>\n",
              "      <td>85</td>\n",
              "      <td>66</td>\n",
              "      <td>29</td>\n",
              "      <td>0</td>\n",
              "      <td>26.6</td>\n",
              "      <td>0.351</td>\n",
              "      <td>31</td>\n",
              "      <td>0</td>\n",
              "    </tr>\n",
              "    <tr>\n",
              "      <th>2</th>\n",
              "      <td>8</td>\n",
              "      <td>183</td>\n",
              "      <td>64</td>\n",
              "      <td>0</td>\n",
              "      <td>0</td>\n",
              "      <td>23.3</td>\n",
              "      <td>0.672</td>\n",
              "      <td>32</td>\n",
              "      <td>1</td>\n",
              "    </tr>\n",
              "    <tr>\n",
              "      <th>3</th>\n",
              "      <td>1</td>\n",
              "      <td>89</td>\n",
              "      <td>66</td>\n",
              "      <td>23</td>\n",
              "      <td>94</td>\n",
              "      <td>28.1</td>\n",
              "      <td>0.167</td>\n",
              "      <td>21</td>\n",
              "      <td>0</td>\n",
              "    </tr>\n",
              "    <tr>\n",
              "      <th>4</th>\n",
              "      <td>0</td>\n",
              "      <td>137</td>\n",
              "      <td>40</td>\n",
              "      <td>35</td>\n",
              "      <td>168</td>\n",
              "      <td>43.1</td>\n",
              "      <td>2.288</td>\n",
              "      <td>33</td>\n",
              "      <td>1</td>\n",
              "    </tr>\n",
              "  </tbody>\n",
              "</table>\n",
              "</div>\n",
              "    <div class=\"colab-df-buttons\">\n",
              "\n",
              "  <div class=\"colab-df-container\">\n",
              "    <button class=\"colab-df-convert\" onclick=\"convertToInteractive('df-3cd2b7cb-2386-42e9-ad3b-ea13731efab8')\"\n",
              "            title=\"Convert this dataframe to an interactive table.\"\n",
              "            style=\"display:none;\">\n",
              "\n",
              "  <svg xmlns=\"http://www.w3.org/2000/svg\" height=\"24px\" viewBox=\"0 -960 960 960\">\n",
              "    <path d=\"M120-120v-720h720v720H120Zm60-500h600v-160H180v160Zm220 220h160v-160H400v160Zm0 220h160v-160H400v160ZM180-400h160v-160H180v160Zm440 0h160v-160H620v160ZM180-180h160v-160H180v160Zm440 0h160v-160H620v160Z\"/>\n",
              "  </svg>\n",
              "    </button>\n",
              "\n",
              "  <style>\n",
              "    .colab-df-container {\n",
              "      display:flex;\n",
              "      gap: 12px;\n",
              "    }\n",
              "\n",
              "    .colab-df-convert {\n",
              "      background-color: #E8F0FE;\n",
              "      border: none;\n",
              "      border-radius: 50%;\n",
              "      cursor: pointer;\n",
              "      display: none;\n",
              "      fill: #1967D2;\n",
              "      height: 32px;\n",
              "      padding: 0 0 0 0;\n",
              "      width: 32px;\n",
              "    }\n",
              "\n",
              "    .colab-df-convert:hover {\n",
              "      background-color: #E2EBFA;\n",
              "      box-shadow: 0px 1px 2px rgba(60, 64, 67, 0.3), 0px 1px 3px 1px rgba(60, 64, 67, 0.15);\n",
              "      fill: #174EA6;\n",
              "    }\n",
              "\n",
              "    .colab-df-buttons div {\n",
              "      margin-bottom: 4px;\n",
              "    }\n",
              "\n",
              "    [theme=dark] .colab-df-convert {\n",
              "      background-color: #3B4455;\n",
              "      fill: #D2E3FC;\n",
              "    }\n",
              "\n",
              "    [theme=dark] .colab-df-convert:hover {\n",
              "      background-color: #434B5C;\n",
              "      box-shadow: 0px 1px 3px 1px rgba(0, 0, 0, 0.15);\n",
              "      filter: drop-shadow(0px 1px 2px rgba(0, 0, 0, 0.3));\n",
              "      fill: #FFFFFF;\n",
              "    }\n",
              "  </style>\n",
              "\n",
              "    <script>\n",
              "      const buttonEl =\n",
              "        document.querySelector('#df-3cd2b7cb-2386-42e9-ad3b-ea13731efab8 button.colab-df-convert');\n",
              "      buttonEl.style.display =\n",
              "        google.colab.kernel.accessAllowed ? 'block' : 'none';\n",
              "\n",
              "      async function convertToInteractive(key) {\n",
              "        const element = document.querySelector('#df-3cd2b7cb-2386-42e9-ad3b-ea13731efab8');\n",
              "        const dataTable =\n",
              "          await google.colab.kernel.invokeFunction('convertToInteractive',\n",
              "                                                    [key], {});\n",
              "        if (!dataTable) return;\n",
              "\n",
              "        const docLinkHtml = 'Like what you see? Visit the ' +\n",
              "          '<a target=\"_blank\" href=https://colab.research.google.com/notebooks/data_table.ipynb>data table notebook</a>'\n",
              "          + ' to learn more about interactive tables.';\n",
              "        element.innerHTML = '';\n",
              "        dataTable['output_type'] = 'display_data';\n",
              "        await google.colab.output.renderOutput(dataTable, element);\n",
              "        const docLink = document.createElement('div');\n",
              "        docLink.innerHTML = docLinkHtml;\n",
              "        element.appendChild(docLink);\n",
              "      }\n",
              "    </script>\n",
              "  </div>\n",
              "\n",
              "\n",
              "    <div id=\"df-08fd71f2-4df3-41bc-b04b-e2d42ba99640\">\n",
              "      <button class=\"colab-df-quickchart\" onclick=\"quickchart('df-08fd71f2-4df3-41bc-b04b-e2d42ba99640')\"\n",
              "                title=\"Suggest charts\"\n",
              "                style=\"display:none;\">\n",
              "\n",
              "<svg xmlns=\"http://www.w3.org/2000/svg\" height=\"24px\"viewBox=\"0 0 24 24\"\n",
              "     width=\"24px\">\n",
              "    <g>\n",
              "        <path d=\"M19 3H5c-1.1 0-2 .9-2 2v14c0 1.1.9 2 2 2h14c1.1 0 2-.9 2-2V5c0-1.1-.9-2-2-2zM9 17H7v-7h2v7zm4 0h-2V7h2v10zm4 0h-2v-4h2v4z\"/>\n",
              "    </g>\n",
              "</svg>\n",
              "      </button>\n",
              "\n",
              "<style>\n",
              "  .colab-df-quickchart {\n",
              "      --bg-color: #E8F0FE;\n",
              "      --fill-color: #1967D2;\n",
              "      --hover-bg-color: #E2EBFA;\n",
              "      --hover-fill-color: #174EA6;\n",
              "      --disabled-fill-color: #AAA;\n",
              "      --disabled-bg-color: #DDD;\n",
              "  }\n",
              "\n",
              "  [theme=dark] .colab-df-quickchart {\n",
              "      --bg-color: #3B4455;\n",
              "      --fill-color: #D2E3FC;\n",
              "      --hover-bg-color: #434B5C;\n",
              "      --hover-fill-color: #FFFFFF;\n",
              "      --disabled-bg-color: #3B4455;\n",
              "      --disabled-fill-color: #666;\n",
              "  }\n",
              "\n",
              "  .colab-df-quickchart {\n",
              "    background-color: var(--bg-color);\n",
              "    border: none;\n",
              "    border-radius: 50%;\n",
              "    cursor: pointer;\n",
              "    display: none;\n",
              "    fill: var(--fill-color);\n",
              "    height: 32px;\n",
              "    padding: 0;\n",
              "    width: 32px;\n",
              "  }\n",
              "\n",
              "  .colab-df-quickchart:hover {\n",
              "    background-color: var(--hover-bg-color);\n",
              "    box-shadow: 0 1px 2px rgba(60, 64, 67, 0.3), 0 1px 3px 1px rgba(60, 64, 67, 0.15);\n",
              "    fill: var(--button-hover-fill-color);\n",
              "  }\n",
              "\n",
              "  .colab-df-quickchart-complete:disabled,\n",
              "  .colab-df-quickchart-complete:disabled:hover {\n",
              "    background-color: var(--disabled-bg-color);\n",
              "    fill: var(--disabled-fill-color);\n",
              "    box-shadow: none;\n",
              "  }\n",
              "\n",
              "  .colab-df-spinner {\n",
              "    border: 2px solid var(--fill-color);\n",
              "    border-color: transparent;\n",
              "    border-bottom-color: var(--fill-color);\n",
              "    animation:\n",
              "      spin 1s steps(1) infinite;\n",
              "  }\n",
              "\n",
              "  @keyframes spin {\n",
              "    0% {\n",
              "      border-color: transparent;\n",
              "      border-bottom-color: var(--fill-color);\n",
              "      border-left-color: var(--fill-color);\n",
              "    }\n",
              "    20% {\n",
              "      border-color: transparent;\n",
              "      border-left-color: var(--fill-color);\n",
              "      border-top-color: var(--fill-color);\n",
              "    }\n",
              "    30% {\n",
              "      border-color: transparent;\n",
              "      border-left-color: var(--fill-color);\n",
              "      border-top-color: var(--fill-color);\n",
              "      border-right-color: var(--fill-color);\n",
              "    }\n",
              "    40% {\n",
              "      border-color: transparent;\n",
              "      border-right-color: var(--fill-color);\n",
              "      border-top-color: var(--fill-color);\n",
              "    }\n",
              "    60% {\n",
              "      border-color: transparent;\n",
              "      border-right-color: var(--fill-color);\n",
              "    }\n",
              "    80% {\n",
              "      border-color: transparent;\n",
              "      border-right-color: var(--fill-color);\n",
              "      border-bottom-color: var(--fill-color);\n",
              "    }\n",
              "    90% {\n",
              "      border-color: transparent;\n",
              "      border-bottom-color: var(--fill-color);\n",
              "    }\n",
              "  }\n",
              "</style>\n",
              "\n",
              "      <script>\n",
              "        async function quickchart(key) {\n",
              "          const quickchartButtonEl =\n",
              "            document.querySelector('#' + key + ' button');\n",
              "          quickchartButtonEl.disabled = true;  // To prevent multiple clicks.\n",
              "          quickchartButtonEl.classList.add('colab-df-spinner');\n",
              "          try {\n",
              "            const charts = await google.colab.kernel.invokeFunction(\n",
              "                'suggestCharts', [key], {});\n",
              "          } catch (error) {\n",
              "            console.error('Error during call to suggestCharts:', error);\n",
              "          }\n",
              "          quickchartButtonEl.classList.remove('colab-df-spinner');\n",
              "          quickchartButtonEl.classList.add('colab-df-quickchart-complete');\n",
              "        }\n",
              "        (() => {\n",
              "          let quickchartButtonEl =\n",
              "            document.querySelector('#df-08fd71f2-4df3-41bc-b04b-e2d42ba99640 button');\n",
              "          quickchartButtonEl.style.display =\n",
              "            google.colab.kernel.accessAllowed ? 'block' : 'none';\n",
              "        })();\n",
              "      </script>\n",
              "    </div>\n",
              "\n",
              "    </div>\n",
              "  </div>\n"
            ],
            "application/vnd.google.colaboratory.intrinsic+json": {
              "type": "dataframe",
              "variable_name": "df",
              "summary": "{\n  \"name\": \"df\",\n  \"rows\": 768,\n  \"fields\": [\n    {\n      \"column\": \"Pregnancies\",\n      \"properties\": {\n        \"dtype\": \"number\",\n        \"std\": 3,\n        \"min\": 0,\n        \"max\": 17,\n        \"num_unique_values\": 17,\n        \"samples\": [\n          6,\n          1,\n          3\n        ],\n        \"semantic_type\": \"\",\n        \"description\": \"\"\n      }\n    },\n    {\n      \"column\": \"Glucose\",\n      \"properties\": {\n        \"dtype\": \"number\",\n        \"std\": 31,\n        \"min\": 0,\n        \"max\": 199,\n        \"num_unique_values\": 136,\n        \"samples\": [\n          151,\n          101,\n          112\n        ],\n        \"semantic_type\": \"\",\n        \"description\": \"\"\n      }\n    },\n    {\n      \"column\": \"BloodPressure\",\n      \"properties\": {\n        \"dtype\": \"number\",\n        \"std\": 19,\n        \"min\": 0,\n        \"max\": 122,\n        \"num_unique_values\": 47,\n        \"samples\": [\n          86,\n          46,\n          85\n        ],\n        \"semantic_type\": \"\",\n        \"description\": \"\"\n      }\n    },\n    {\n      \"column\": \"SkinThickness\",\n      \"properties\": {\n        \"dtype\": \"number\",\n        \"std\": 15,\n        \"min\": 0,\n        \"max\": 99,\n        \"num_unique_values\": 51,\n        \"samples\": [\n          7,\n          12,\n          48\n        ],\n        \"semantic_type\": \"\",\n        \"description\": \"\"\n      }\n    },\n    {\n      \"column\": \"Insulin\",\n      \"properties\": {\n        \"dtype\": \"number\",\n        \"std\": 115,\n        \"min\": 0,\n        \"max\": 846,\n        \"num_unique_values\": 186,\n        \"samples\": [\n          52,\n          41,\n          183\n        ],\n        \"semantic_type\": \"\",\n        \"description\": \"\"\n      }\n    },\n    {\n      \"column\": \"BMI\",\n      \"properties\": {\n        \"dtype\": \"number\",\n        \"std\": 7.8841603203754405,\n        \"min\": 0.0,\n        \"max\": 67.1,\n        \"num_unique_values\": 248,\n        \"samples\": [\n          19.9,\n          31.0,\n          38.1\n        ],\n        \"semantic_type\": \"\",\n        \"description\": \"\"\n      }\n    },\n    {\n      \"column\": \"DiabetesPedigreeFunction\",\n      \"properties\": {\n        \"dtype\": \"number\",\n        \"std\": 0.33132859501277484,\n        \"min\": 0.078,\n        \"max\": 2.42,\n        \"num_unique_values\": 517,\n        \"samples\": [\n          1.731,\n          0.426,\n          0.138\n        ],\n        \"semantic_type\": \"\",\n        \"description\": \"\"\n      }\n    },\n    {\n      \"column\": \"Age\",\n      \"properties\": {\n        \"dtype\": \"number\",\n        \"std\": 11,\n        \"min\": 21,\n        \"max\": 81,\n        \"num_unique_values\": 52,\n        \"samples\": [\n          60,\n          47,\n          72\n        ],\n        \"semantic_type\": \"\",\n        \"description\": \"\"\n      }\n    },\n    {\n      \"column\": \"Outcome\",\n      \"properties\": {\n        \"dtype\": \"number\",\n        \"std\": 0,\n        \"min\": 0,\n        \"max\": 1,\n        \"num_unique_values\": 2,\n        \"samples\": [\n          0,\n          1\n        ],\n        \"semantic_type\": \"\",\n        \"description\": \"\"\n      }\n    }\n  ]\n}"
            }
          },
          "metadata": {},
          "execution_count": 27
        }
      ]
    },
    {
      "cell_type": "markdown",
      "source": [
        "#End of notebook\n",
        "---\n",
        "© 2025 The Coding School, All rights reserved"
      ],
      "metadata": {
        "id": "7dzC09dLlEhm"
      }
    }
  ]
}